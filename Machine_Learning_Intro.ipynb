{
  "nbformat": 4,
  "nbformat_minor": 0,
  "metadata": {
    "colab": {
      "provenance": []
    },
    "kernelspec": {
      "name": "python3",
      "display_name": "Python 3"
    },
    "language_info": {
      "name": "python"
    }
  },
  "cells": [
    {
      "cell_type": "markdown",
      "source": [],
      "metadata": {
        "id": "ZDerAZ1FYMYu"
      }
    },
    {
      "cell_type": "markdown",
      "source": [
        "**1. Explain the differences between AI, ML, Deep Learning (DL), and Data\n",
        "Science (DS)?**\n",
        "\n",
        "**1. Artificial Intelligence (AI)**\n",
        "* The broadest concept. AI is about creating machines or systems that can perform tasks that normally require human intelligence.\n",
        "* Goal: Make machines \"think\" or \"act\" smartly (problem-solving, reasoning, decision-making).\n",
        "*Examples:\n",
        "  * Virtual assistants (Siri, Alexa)\n",
        "  * Self-driving cars\n",
        "  * Fraud detection systems\n",
        "* Think of AI as the umbrella field under which ML, DL, and even other techniques (like rule-based systems) fall.\n",
        "\n",
        "**2. Machine Learning (ML)**\n",
        "* A subset of AI where machines learn from data instead of being explicitly programmed.\n",
        "* Goal: Find patterns in data and improve performance automatically with experience.\n",
        "* How it works: Uses algorithms to learn relationships between inputs and outputs.\n",
        "* Examples:\n",
        "    * Email spam filtering\n",
        "    * Predicting stock prices\n",
        "    * Recommendation systems (Netflix, Amazon)\n",
        "* ML = AI powered by data-driven learning instead of hard-coded rules.\n",
        "\n",
        "**3. Deep Learning (DL)**\n",
        "* A subset of ML that uses artificial neural networks with many layers (hence “deep”).\n",
        "* Goal: Mimic the human brain’s structure to handle complex, unstructured data like images, audio, and text.\n",
        "* How it works: Learns hierarchical representations — simple features at lower layers, complex features at higher layers.\n",
        "* Examples:\n",
        "    * Facial recognition\n",
        "    * Voice assistants (speech-to-text)\n",
        "    * Self-driving car vision systems\n",
        "* DL = ML using neural networks, especially effective with big data + high computing power (GPUs).\n",
        "\n",
        "**4. Data Science (DS)**\n",
        "* A broader field that uses statistics, ML, programming, and domain knowledge to extract insights and knowledge from data.\n",
        "* Goal: Turn raw data into meaningful insights, predictions, or decisions.\n",
        "* Scope: Covers the whole data pipeline:\n",
        "    * Collecting and cleaning data\n",
        "    * Exploratory Data Analysis (EDA)\n",
        "    * Applying ML/DL models Visualizing and communicating results\n",
        "* Examples:\n",
        "  * Business analytics dashboards\n",
        "  * Predicting customer churn\n",
        "  * Market basket analysis\n",
        "\n",
        "**2. What are the types of machine learning? Describe each with one\n",
        "real-world example?**\n",
        "\n",
        "**1. Supervised Learning**\n",
        "* The model is trained on a labeled dataset (input + correct output).\n",
        "* Goal: Learn the mapping between inputs and outputs, so it can predict the output for new, unseen inputs.\n",
        "* How it works: The algorithm adjusts itself until predictions match the labels as closely as possible.\n",
        "*Real-world example:\n",
        "   * Email Spam Detection – Input: email text, Output: \"spam\" or \"not spam.\"\n",
        "   * The model is trained on a dataset where emails are already labeled as spam or not.\n",
        "\n",
        "**2. Unsupervised Learning**\n",
        "* The model is trained on unlabeled data (only inputs, no correct outputs).\n",
        "* Goal: Find patterns, structures, or groupings hidden in the data.\n",
        "* How it works: The algorithm organizes data into clusters or reduces dimensions for easier understanding.\n",
        "* Real-world example:\n",
        "  * Customer Segmentation in Marketing – Companies group customers with similar buying habits (e.g., budget shoppers vs. premium buyers) without prior labels.\n",
        "\n",
        "**3. Reinforcement Learning (RL)**\n",
        "* The model learns by interacting with an environment, receiving rewards or penalties for its actions.\n",
        "* Goal: Learn a sequence of decisions that maximize cumulative reward.\n",
        "* How it works: Trial-and-error learning with feedback.\n",
        "* Real-world example:\n",
        "  * Self-Driving Cars – The system learns to stay in the lane, avoid obstacles, and follow traffic rules by maximizing \"safety\" and \"efficiency\" rewards.\n",
        "\n",
        "**4. Semi-Supervised Learning (Hybrid)**\n",
        "* A mix of labeled and unlabeled data.\n",
        "* Goal: Use a small amount of labeled data + a large amount of unlabeled data to improve learning.\n",
        "* How it works: The model learns structure from unlabeled data and refines it using the labeled portion.\n",
        "* Real-world example:\n",
        "   * Medical Diagnosis – A few X-ray scans may be labeled by doctors (disease present or not), while thousands remain unlabeled. Semi-supervised ML can still learn effectively from both.\n",
        "\n",
        "**3.Define overfitting, underfitting, and the bias-variance tradeoff in machine\n",
        "learning?**\n",
        "\n",
        "**1. Overfitting**\n",
        "\n",
        "* When a model learns the training data too well, including noise and random fluctuations, instead of just the underlying patterns.\n",
        "* Effect:\n",
        "  * High accuracy on training data\n",
        "  * Poor performance on unseen/test data (bad generalization).\n",
        "  * Cause: Model is too complex (too many parameters, deep trees, etc.).\n",
        "* Example:\n",
        "  * A decision tree memorizes every detail of student exam scores (including typos in data). It performs perfectly on training data but fails badly on new student data.\n",
        "\n",
        "**2. Underfitting**\n",
        "*  When a model is too simple to capture the underlying patterns in the data.\n",
        "* Effect:\n",
        "   * Poor accuracy on training data\n",
        "   * Poor accuracy on test data (never learned enough).\n",
        "   * Cause: Model is too weak/rigid (too few parameters, oversimplified).\n",
        "* Example:\n",
        "   * Trying to fit a straight line (linear regression) to predict housing prices when the true relationship is more complex (curved/nonlinear).\n",
        "\n",
        "**3. Bias-Variance Tradeoff**\n",
        "* Bias = Error from wrong assumptions (model too simple, misses patterns).\n",
        "     * High Bias → Underfitting.\n",
        "* Variance = Error from too much sensitivity to training data (model memorizes noise).\n",
        "    * High Variance → Overfitting.\n",
        "* Tradeoff:\n",
        "   * A good model balances bias and variance.\n",
        "   * Too much bias → underfitting.\n",
        "   * Too much variance → overfitting.\n",
        "* Goal: Find the “sweet spot” where both are minimized for best generalization.\n",
        "* Example:\n",
        "  * High Bias (Underfitting): Predicting everyone’s house price as the average price.\n",
        "  * High Variance (Overfitting): Memorizing each house in the dataset.\n",
        "  * Balanced Model: Captures real patterns (size, location, features) without memorizing noise.\n",
        "\n",
        "**4.What are outliers in a dataset, and list three common techniques for\n",
        "handling them?**\n",
        "\n",
        "**Outliers**\n",
        "*  Data points that are significantly different from the majority of the data.\n",
        "* Effect:\n",
        "  * Can skew statistical measures (like mean, standard deviation).\n",
        "  * May mislead models and reduce accuracy.\n",
        "  * Sometimes they are errors, but sometimes they are important rare events (e.g., fraud detection).\n",
        "* Example:\n",
        "  * If most people’s monthly salary is between ₹30k–₹80k, but one record shows ₹10 lakh, that’s an outlier.\n",
        "\n",
        "**Three Common Techniques for Handling Outliers**\n",
        "\n",
        "* 1. Removal (Deleting Outliers)\n",
        "     * If outliers are due to errors, data entry mistakes, or irrelevant cases, they can be removed.\n",
        "     * Method: Use statistical thresholds (e.g., Z-score > 3, or data beyond 1.5×IQR).\n",
        "     * Example: Removing a negative age entry in a medical dataset.\n",
        "* 2. Transformation (Reducing Impact)\n",
        "     * Apply mathematical transformations to reduce the effect of extreme values.\n",
        "     * Methods: Log transform, square root transform, or normalization.\n",
        "     * Example: Incomes are highly skewed; applying log transform compresses the range and reduces outlier influence.\n",
        "* 3. Imputation (Replacing Outliers)\n",
        "     * Replace outliers with more reasonable values.\n",
        "     * Methods: Replace with median, mean, or use interpolation.\n",
        "     * Example: If one house price is 10× higher than others, replace it with the median house price.\n",
        "\n",
        "**5. Explain the process of handling missing values and mention one\n",
        "imputation technique for numerical and one for categorical data?**\n",
        "\n",
        "**Process of Handling Missing Values**\n",
        "\n",
        "**Identify Missing Data**\n",
        "* Use functions like .isnull() or .info() (in Python/Pandas) to detect missing values.\n",
        "* Understand the Pattern\n",
        "   * MCAR (Missing Completely at Random) – no pattern.\n",
        "   * MAR (Missing at Random) – related to other features.\n",
        "   * MNAR (Missing Not at Random) – related to the missing value itself.\n",
        "*Decide on a Strategy\n",
        "  * Remove: If too many missing values in a row/column.\n",
        "  * Impute (Fill): Replace missing values with estimated values.\n",
        "  * Flag: Add a new column indicating missingness (useful in ML).\n",
        "* Apply the Technique\n",
        "   * Choose imputation based on whether data is numerical or categorical.\n",
        "\n",
        "**Imputation Techniques**\n",
        "* 1. Numerical Data Imputation\n",
        "     * Technique: Mean / Median Imputation\n",
        "     * Replace missing numerical values with the mean (average) or median of the column.\n",
        "* When to use:\n",
        "    * Mean → when data is symmetric.\n",
        "    * Median → when data is skewed (to avoid outlier impact).\n",
        "* Example: If some students’ test scores are missing, replace them with the median score of the class.\n",
        "* 2. Categorical Data Imputation\n",
        "   * Technique: Mode Imputation\n",
        "   * Replace missing categorical values with the most frequent category (mode).\n",
        "* When to use: Works well when a category appears very frequently.\n",
        "* Example: If some survey responses for \"Gender\" are missing, fill them with the most common category (say \"Male\" or \"Female\").\n",
        "\n",
        "**6. Write a Python program that:\n",
        "● Creates a synthetic imbalanced dataset with make_classification() from\n",
        "sklearn.datasets.\n",
        "● Prints the class distribution.\n",
        "(Include your Python code and output in the code box below.)**"
      ],
      "metadata": {
        "id": "KLZ7YTcqYOwB"
      }
    },
    {
      "cell_type": "code",
      "source": [
        "from sklearn.datasets import make_classification\n",
        "from collections import Counter\n",
        "\n",
        "X, y = make_classification(n_samples=1000,      # total samples\n",
        "                           n_features=10,       # number of features\n",
        "                           n_informative=5,     # number of useful features\n",
        "                           n_redundant=2,       # redundant features\n",
        "                           n_classes=2,         # binary classification\n",
        "                           weights=[0.9, 0.1],  # imbalance: 90% vs 10%\n",
        "                           random_state=42)\n",
        "\n",
        "# 2. Print the class distribution\n",
        "class_distribution = Counter(y)\n",
        "print(\"Class Distribution:\", class_distribution)"
      ],
      "metadata": {
        "colab": {
          "base_uri": "https://localhost:8080/"
        },
        "id": "2E342fDQiXiJ",
        "outputId": "5200a74b-510a-4709-d1f9-d2ad0a0557a3"
      },
      "execution_count": 1,
      "outputs": [
        {
          "output_type": "stream",
          "name": "stdout",
          "text": [
            "Class Distribution: Counter({np.int64(0): 896, np.int64(1): 104})\n"
          ]
        }
      ]
    },
    {
      "cell_type": "markdown",
      "source": [
        "7. Implement one-hot encoding using pandas for the following list of colors:\n",
        "['Red', 'Green', 'Blue', 'Green', 'Red']. Print the resulting dataframe.\n",
        "(Include your Python code and output in the code box below.)"
      ],
      "metadata": {
        "id": "q6dDnAWGil26"
      }
    },
    {
      "cell_type": "code",
      "source": [
        "import pandas as pd\n",
        "\n",
        "colors = ['Red', 'Green', 'Blue', 'Green', 'Red']\n",
        "\n",
        "df = pd.DataFrame(colors, columns=['Color'])\n",
        "\n",
        "one_hot = pd.get_dummies(df['Color'])\n",
        "\n",
        "print(\"Original DataFrame:\")\n",
        "print(df)\n",
        "print(\"\\nOne-Hot Encoded DataFrame:\")\n",
        "print(one_hot)"
      ],
      "metadata": {
        "colab": {
          "base_uri": "https://localhost:8080/"
        },
        "id": "smQf65r2i4p5",
        "outputId": "fc850e63-57af-4abf-f622-bbca1e6c78b2"
      },
      "execution_count": 2,
      "outputs": [
        {
          "output_type": "stream",
          "name": "stdout",
          "text": [
            "Original DataFrame:\n",
            "   Color\n",
            "0    Red\n",
            "1  Green\n",
            "2   Blue\n",
            "3  Green\n",
            "4    Red\n",
            "\n",
            "One-Hot Encoded DataFrame:\n",
            "    Blue  Green    Red\n",
            "0  False  False   True\n",
            "1  False   True  False\n",
            "2   True  False  False\n",
            "3  False   True  False\n",
            "4  False  False   True\n"
          ]
        }
      ]
    },
    {
      "cell_type": "markdown",
      "source": [
        "8. Write a Python script to:\n",
        "● Generate 1000 samples from a normal distribution.\n",
        "● Introduce 50 random missing values.\n",
        "● Fill missing values with the column mean.\n",
        "● Plot a histogram before and after imputation.\n",
        "(Include your Python code and output in the code box below.)"
      ],
      "metadata": {
        "id": "IKt8lztqjE2o"
      }
    },
    {
      "cell_type": "code",
      "source": [
        "import numpy as np\n",
        "import pandas as pd\n",
        "import matplotlib.pyplot as plt\n",
        "\n",
        "# 1. Generate 1000 samples from a normal distribution\n",
        "np.random.seed(42)\n",
        "data = np.random.normal(loc=50, scale=10, size=1000)  # mean=50, std=10\n",
        "\n",
        "# 2. Introduce 50 random missing values\n",
        "data_missing = data.copy()\n",
        "missing_indices = np.random.choice(len(data_missing), 50, replace=False)\n",
        "data_missing[missing_indices] = np.nan\n",
        "\n",
        "# Convert to DataFrame\n",
        "df = pd.DataFrame(data_missing, columns=['Value'])\n",
        "\n",
        "# 3. Fill missing values with the column mean\n",
        "mean_value = df['Value'].mean()\n",
        "df_filled = df.fillna(mean_value)\n",
        "\n",
        "# 4. Plot histograms before and after imputation\n",
        "plt.figure(figsize=(12, 5))\n",
        "\n",
        "# Before imputation\n",
        "plt.subplot(1, 2, 1)\n",
        "plt.hist(df['Value'].dropna(), bins=30, edgecolor='black')\n",
        "plt.title(\"Before Imputation\")\n",
        "plt.xlabel(\"Value\")\n",
        "plt.ylabel(\"Frequency\")\n",
        "\n",
        "# After imputation\n",
        "plt.subplot(1, 2, 2)\n",
        "plt.hist(df_filled['Value'], bins=30, edgecolor='black')\n",
        "plt.title(\"After Imputation (Mean Filled)\")\n",
        "plt.xlabel(\"Value\")\n",
        "plt.ylabel(\"Frequency\")\n",
        "\n",
        "plt.tight_layout()\n",
        "plt.show()\n",
        "\n",
        "# Print confirmation\n",
        "print(\"Number of missing values before imputation:\", df['Value'].isnull().sum())\n",
        "print(\"Number of missing values after imputation:\", df_filled['Value'].isnull().sum())"
      ],
      "metadata": {
        "colab": {
          "base_uri": "https://localhost:8080/",
          "height": 528
        },
        "id": "Pq35asLfjby_",
        "outputId": "1e9f7167-2d7a-4b4a-fc49-cd1d9fdf1aa7"
      },
      "execution_count": 3,
      "outputs": [
        {
          "output_type": "display_data",
          "data": {
            "text/plain": [
              "<Figure size 1200x500 with 2 Axes>"
            ],
            "image/png": "[encoded data removed]"
          },
          "metadata": {}
        },
        {
          "output_type": "stream",
          "name": "stdout",
          "text": [
            "Number of missing values before imputation: 50\n",
            "Number of missing values after imputation: 0\n"
          ]
        }
      ]
    },
    {
      "cell_type": "markdown",
      "source": [
        "9. Implement Min-Max scaling on the following list of numbers [2, 5, 10, 15,\n",
        "20] using sklearn.preprocessing.MinMaxScaler. Print the scaled array.\n",
        "(Include your Python code and output in the code box below.)\n"
      ],
      "metadata": {
        "id": "PX8gDhDPjgyc"
      }
    },
    {
      "cell_type": "code",
      "source": [
        "from sklearn.preprocessing import MinMaxScaler\n",
        "import numpy as np\n",
        "\n",
        "# 1. Define the data\n",
        "data = np.array([2, 5, 10, 15, 20]).reshape(-1, 1)\n",
        "\n",
        "# 2. Initialize MinMaxScaler\n",
        "scaler = MinMaxScaler()\n",
        "\n",
        "# 3. Fit and transform the data\n",
        "scaled_data = scaler.fit_transform(data)\n",
        "\n",
        "# 4. Print result\n",
        "print(\"Original Data:\\n\", data.flatten())\n",
        "print(\"Scaled Data:\\n\", scaled_data.flatten())\n"
      ],
      "metadata": {
        "colab": {
          "base_uri": "https://localhost:8080/"
        },
        "id": "0vhx433DjyJ5",
        "outputId": "ff21f312-1d4f-44f3-d633-34f0de81c5a2"
      },
      "execution_count": 4,
      "outputs": [
        {
          "output_type": "stream",
          "name": "stdout",
          "text": [
            "Original Data:\n",
            " [ 2  5 10 15 20]\n",
            "Scaled Data:\n",
            " [0.         0.16666667 0.44444444 0.72222222 1.        ]\n"
          ]
        }
      ]
    },
    {
      "cell_type": "markdown",
      "source": [
        "You are working as a data scientist for a retail company. You receive a customer\n",
        "transaction dataset that contains:\n",
        "● Missing ages,\n",
        "● Outliers in transaction amount,\n",
        "● A highly imbalanced target (fraud vs. non-fraud),\n",
        "● Categorical variables like payment method.\n",
        "Explain the step-by-step data preparation plan you’d follow before training a machine learning\n",
        "model. Include how you’d address missing data, outliers, imbalance, and encoding.\n",
        "(Include your Python code and output in the code box below.)"
      ],
      "metadata": {
        "id": "oI16hkW5kB7t"
      }
    },
    {
      "cell_type": "code",
      "source": [
        "import pandas as pd\n",
        "import numpy as np\n",
        "from sklearn.impute import SimpleImputer\n",
        "from sklearn.preprocessing import OneHotEncoder\n",
        "from sklearn.model_selection import train_test_split\n",
        "from imblearn.over_sampling import SMOTE\n",
        "\n",
        "\n",
        "np.random.seed(42)\n",
        "data = {\n",
        "    \"Age\": [25, np.nan, 40, 35, np.nan, 50, 45, 30, np.nan, 60],\n",
        "    \"TransactionAmount\": [100, 200, 100000, 150, 180, 120, 300000, 140, 160, 250],\n",
        "    \"PaymentMethod\": [\"Card\", \"Cash\", \"Card\", \"UPI\", \"Cash\", \"Card\", \"Wallet\", \"UPI\", \"Cash\", \"Wallet\"],\n",
        "    \"Fraud\": [0, 0, 1, 0, 0, 0, 1, 0, 0, 0]  # imbalanced (few frauds)\n",
        "}\n",
        "df = pd.DataFrame(data)\n",
        "print(\"Original Data:\\n\", df)\n",
        "\n",
        "# Impute numerical (Age) with median\n",
        "age_imputer = SimpleImputer(strategy=\"median\")\n",
        "df[\"Age\"] = age_imputer.fit_transform(df[[\"Age\"]])\n",
        "\n",
        "# Impute categorical (PaymentMethod) with most frequent\n",
        "cat_imputer = SimpleImputer(strategy=\"most_frequent\")\n",
        "df[\"PaymentMethod\"] = cat_imputer.fit_transform(df[[\"PaymentMethod\"]])[:, 0]\n",
        "\n",
        "\n",
        "Q1 = df[\"TransactionAmount\"].quantile(0.25)\n",
        "Q3 = df[\"TransactionAmount\"].quantile(0.75)\n",
        "IQR = Q3 - Q1\n",
        "lower_limit = Q1 - 1.5 * IQR\n",
        "upper_limit = Q3 + 1.5 * IQR\n",
        "\n",
        "# Cap outliers (Winsorization)\n",
        "df[\"TransactionAmount\"] = np.where(df[\"TransactionAmount\"] > upper_limit, upper_limit,\n",
        "                                   np.where(df[\"TransactionAmount\"] < lower_limit, lower_limit,\n",
        "                                            df[\"TransactionAmount\"]))\n",
        "\n",
        "encoder = OneHotEncoder(sparse_output=False, drop=\"first\")\n",
        "encoded = encoder.fit_transform(df[[\"PaymentMethod\"]])\n",
        "\n",
        "# Convert to DataFrame\n",
        "encoded_df = pd.DataFrame(encoded, columns=encoder.get_feature_names_out([\"PaymentMethod\"]))\n",
        "df = pd.concat([df.drop(columns=[\"PaymentMethod\"]), encoded_df], axis=1)\n",
        "\n",
        "print(df.head())\n",
        "\n",
        "\n",
        "\n",
        "X = df.drop(\"Fraud\", axis=1)\n",
        "y = df[\"Fraud\"]\n",
        "\n",
        "# Apply SMOTE oversampling\n",
        "smote = SMOTE(random_state=42, k_neighbors=1)  # use fewer neighbors\n",
        "X_resampled, y_resampled = smote.fit_resample(X, y)\n",
        "\n",
        "print(\"\\nData After Preprocessing:\\n\", df)\n",
        "print(\"\\nClass Distribution Before SMOTE:\\n\", y.value_counts())\n",
        "print(\"\\nClass Distribution After SMOTE:\\n\", pd.Series(y_resampled).value_counts())\n"
      ],
      "metadata": {
        "colab": {
          "base_uri": "https://localhost:8080/"
        },
        "collapsed": true,
        "id": "u-IlH5_pkTDV",
        "outputId": "379d37f4-a928-4641-bf9e-ac320f666d28"
      },
      "execution_count": 11,
      "outputs": [
        {
          "output_type": "stream",
          "name": "stdout",
          "text": [
            "Original Data:\n",
            "     Age  TransactionAmount PaymentMethod  Fraud\n",
            "0  25.0                100          Card      0\n",
            "1   NaN                200          Cash      0\n",
            "2  40.0             100000          Card      1\n",
            "3  35.0                150           UPI      0\n",
            "4   NaN                180          Cash      0\n",
            "5  50.0                120          Card      0\n",
            "6  45.0             300000        Wallet      1\n",
            "7  30.0                140           UPI      0\n",
            "8   NaN                160          Cash      0\n",
            "9  60.0                250        Wallet      0\n",
            "    Age  TransactionAmount  Fraud  PaymentMethod_Cash  PaymentMethod_UPI  \\\n",
            "0  25.0              100.0      0                 0.0                0.0   \n",
            "1  40.0              200.0      0                 1.0                0.0   \n",
            "2  40.0              380.0      1                 0.0                0.0   \n",
            "3  35.0              150.0      0                 0.0                1.0   \n",
            "4  40.0              180.0      0                 1.0                0.0   \n",
            "\n",
            "   PaymentMethod_Wallet  \n",
            "0                   0.0  \n",
            "1                   0.0  \n",
            "2                   0.0  \n",
            "3                   0.0  \n",
            "4                   0.0  \n",
            "\n",
            "Data After Preprocessing:\n",
            "     Age  TransactionAmount  Fraud  PaymentMethod_Cash  PaymentMethod_UPI  \\\n",
            "0  25.0              100.0      0                 0.0                0.0   \n",
            "1  40.0              200.0      0                 1.0                0.0   \n",
            "2  40.0              380.0      1                 0.0                0.0   \n",
            "3  35.0              150.0      0                 0.0                1.0   \n",
            "4  40.0              180.0      0                 1.0                0.0   \n",
            "5  50.0              120.0      0                 0.0                0.0   \n",
            "6  45.0              380.0      1                 0.0                0.0   \n",
            "7  30.0              140.0      0                 0.0                1.0   \n",
            "8  40.0              160.0      0                 1.0                0.0   \n",
            "9  60.0              250.0      0                 0.0                0.0   \n",
            "\n",
            "   PaymentMethod_Wallet  \n",
            "0                   0.0  \n",
            "1                   0.0  \n",
            "2                   0.0  \n",
            "3                   0.0  \n",
            "4                   0.0  \n",
            "5                   0.0  \n",
            "6                   1.0  \n",
            "7                   0.0  \n",
            "8                   0.0  \n",
            "9                   1.0  \n",
            "\n",
            "Class Distribution Before SMOTE:\n",
            " Fraud\n",
            "0    8\n",
            "1    2\n",
            "Name: count, dtype: int64\n",
            "\n",
            "Class Distribution After SMOTE:\n",
            " Fraud\n",
            "0    8\n",
            "1    8\n",
            "Name: count, dtype: int64\n"
          ]
        }
      ]
    }
  ]
}